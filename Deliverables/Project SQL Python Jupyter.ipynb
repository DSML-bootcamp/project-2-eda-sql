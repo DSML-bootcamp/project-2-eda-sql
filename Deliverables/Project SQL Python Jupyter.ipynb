{
 "cells": [
  {
   "cell_type": "code",
   "execution_count": 1,
   "metadata": {},
   "outputs": [],
   "source": [
    "#import pandas to load the datasets into dataframes\n",
    "import pandas as pd\n",
    "\n",
    "# Importing the Seaborn library for advanced data visualization (as sns)\n",
    "import seaborn as sns\n",
    "\n",
    "# Importing the Matplotlib library for basic plotting functionalities (as plt)\n",
    "import matplotlib.pyplot as plt\n",
    "\n",
    "# Importing datetime for later convertions\n",
    "from datetime import datetime\n",
    "\n",
    "# Matplotlib inline to visualize Matplotlib graphs\n",
    "%matplotlib inline\n",
    "\n",
    "# Configuration to set so that all the Seaborn figures come out with this size\n",
    "%config Inlinebackend.figure_format= 'retina'\n",
    "\n",
    "# Set the Seaborn context to \"poster\" for larger text and figures\n",
    "sns.set_context(\"poster\")\n",
    "\n",
    "# Set the default figure size for Seaborn plots\n",
    "sns.set(rc={\"figure.figsize\": (12., 6.)})\n",
    "\n",
    "# Set the Seaborn style to \"whitegrid\" for a white background with gridlines\n",
    "sns.set_style(\"whitegrid\")\n"
   ]
  },
  {
   "cell_type": "code",
   "execution_count": null,
   "metadata": {},
   "outputs": [],
   "source": [
    "df = pd.read_csv(\"vehicle_sales_dataset.csv\")"
   ]
  },
  {
   "cell_type": "code",
   "execution_count": 98,
   "metadata": {},
   "outputs": [
    {
     "data": {
      "text/plain": [
       "465768"
      ]
     },
     "execution_count": 98,
     "metadata": {},
     "output_type": "execute_result"
    }
   ],
   "source": [
    "df['vin'].nunique()"
   ]
  },
  {
   "cell_type": "code",
   "execution_count": 65,
   "metadata": {},
   "outputs": [
    {
     "name": "stdout",
     "output_type": "stream",
     "text": [
      "<class 'pandas.core.frame.DataFrame'>\n",
      "Index: 465768 entries, 0 to 472324\n",
      "Data columns (total 14 columns):\n",
      " #   Column                 Non-Null Count   Dtype  \n",
      "---  ------                 --------------   -----  \n",
      " 0   year                   465768 non-null  int64  \n",
      " 1   brand                  465768 non-null  object \n",
      " 2   model                  465768 non-null  object \n",
      " 3   category               465768 non-null  object \n",
      " 4   transmission           465768 non-null  object \n",
      " 5   vin                    465768 non-null  object \n",
      " 6   state_of_registration  465768 non-null  object \n",
      " 7   condition              465768 non-null  float64\n",
      " 8   odometer               465768 non-null  float64\n",
      " 9   color                  465768 non-null  object \n",
      " 10  interior_color         465768 non-null  object \n",
      " 11  seller                 465768 non-null  object \n",
      " 12  sellingprice           465768 non-null  float64\n",
      " 13  saledate               465768 non-null  object \n",
      "dtypes: float64(3), int64(1), object(10)\n",
      "memory usage: 53.3+ MB\n"
     ]
    }
   ],
   "source": [
    "df.info()"
   ]
  },
  {
   "cell_type": "code",
   "execution_count": 21,
   "metadata": {},
   "outputs": [],
   "source": [
    "# Let's clean the date column and keep only the day, month and year and put it in this format 'YYYY-MM-DD' for mySQL's delight (default format for later date arithmetic)\n",
    "\n",
    "# Function to cut the bullshit part of the date to get only month, day and year.\n",
    "def cut(date_str):\n",
    "    # Extract the part \n",
    "    return str(date_str)[4:15]\n",
    "\n",
    "# Apply the conversion function to the 'saledate' column\n",
    "df['saledate'] = df['saledate'].apply(cut)"
   ]
  },
  {
   "cell_type": "code",
   "execution_count": 32,
   "metadata": {},
   "outputs": [],
   "source": [
    "# Convert the month to a number and the whole date to match mySQL's default format\n",
    "month_mapping = {\n",
    "    'Jan': '01',\n",
    "    'Feb': '02',\n",
    "    'Mar': '03',\n",
    "    'Apr': '04',\n",
    "    'May': '05',\n",
    "    'Jun': '06',\n",
    "    'Jul': '07',\n",
    "    'Aug': '08',\n",
    "    'Sep': '09',\n",
    "    'Oct': '10',\n",
    "    'Nov': '11',\n",
    "    'Dec': '12'\n",
    "}\n",
    "\n",
    "# Convert 'saledate' column to datetime\n",
    "df['saledate'] = pd.to_datetime(df['saledate'].str[:3].map(month_mapping) + df['saledate'].str[3:], format='%m %d %Y')\n",
    "\n",
    "# Format 'saledate' column to 'YYYY-MM-DD'\n",
    "df['saledate'] = df['saledate'].dt.strftime('%Y-%m-%d')"
   ]
  },
  {
   "cell_type": "code",
   "execution_count": null,
   "metadata": {},
   "outputs": [],
   "source": [
    "# now every date is converted to work with mySQL's default format"
   ]
  },
  {
   "cell_type": "code",
   "execution_count": 50,
   "metadata": {},
   "outputs": [],
   "source": [
    "# Drop rows with missing values in at least one place\n",
    "df = df.dropna()"
   ]
  },
  {
   "cell_type": "code",
   "execution_count": 67,
   "metadata": {},
   "outputs": [],
   "source": [
    "df = df.reset_index(drop=True)"
   ]
  },
  {
   "cell_type": "code",
   "execution_count": 59,
   "metadata": {},
   "outputs": [],
   "source": [
    "# droping every row that has a duplicate vin number so we can use the vin as a key in mySQL later\n",
    "df = df.drop_duplicates(subset=['vin'])"
   ]
  },
  {
   "cell_type": "code",
   "execution_count": null,
   "metadata": {},
   "outputs": [],
   "source": [
    "# Now we can work with rows where no data is missing"
   ]
  },
  {
   "cell_type": "code",
   "execution_count": 87,
   "metadata": {},
   "outputs": [],
   "source": [
    "# Create a dictionary to map seller names to unique IDs\n",
    "unique_sellers = df['seller'].unique()\n",
    "seller_id_map = {seller: idx for idx, seller in enumerate(unique_sellers, start=1)}\n"
   ]
  },
  {
   "cell_type": "code",
   "execution_count": 88,
   "metadata": {},
   "outputs": [],
   "source": [
    "# Add a new column 'seller_id' to the DataFrame\n",
    "df['seller_id'] = df['seller'].map(seller_id_map)"
   ]
  },
  {
   "cell_type": "code",
   "execution_count": 92,
   "metadata": {},
   "outputs": [],
   "source": [
    "# Let's export the cleaned data to a csv file to see in google sheets\n",
    "df.to_excel('sellerid_python_cleaned_car_dataset.xlsx')"
   ]
  },
  {
   "cell_type": "code",
   "execution_count": 95,
   "metadata": {},
   "outputs": [],
   "source": [
    "# Create a DataFrame from the seller_id_map dictionary\n",
    "seller_df = pd.DataFrame(seller_id_map.items(), columns=['seller_id', 'seller_name'])\n",
    "\n",
    "# Now seller_df contains two columns: 'seller_id' and 'seller_name'\n",
    "# 'seller_id' contains unique IDs for each seller name\n",
    "# 'seller_name' contains the corresponding seller names\n",
    "\n",
    "# Export the DataFrame to Excel so we can use it as a table in mySQL\n",
    "seller_df.to_excel('seller_mapping.xlsx', index=False)"
   ]
  }
 ],
 "metadata": {
  "kernelspec": {
   "display_name": "Python 3",
   "language": "python",
   "name": "python3"
  },
  "language_info": {
   "codemirror_mode": {
    "name": "ipython",
    "version": 3
   },
   "file_extension": ".py",
   "mimetype": "text/x-python",
   "name": "python",
   "nbconvert_exporter": "python",
   "pygments_lexer": "ipython3",
   "version": "3.11.9"
  }
 },
 "nbformat": 4,
 "nbformat_minor": 2
}
