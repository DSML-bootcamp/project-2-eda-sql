{
 "cells": [
  {
   "cell_type": "code",
   "execution_count": 27,
   "id": "1a829460-2105-4427-9523-f5202b8b5ad6",
   "metadata": {},
   "outputs": [],
   "source": [
    "import pandas as pd\n",
    "import numpy as np"
   ]
  },
  {
   "cell_type": "code",
   "execution_count": 31,
   "id": "31ba4de7-dd3c-403a-a1c8-ecd1eaa13e32",
   "metadata": {},
   "outputs": [
    {
     "name": "stdout",
     "output_type": "stream",
     "text": [
      "   work_year experience_level employment_type             job_title  salary  \\\n",
      "0       2024               MI              FT        Data Scientist  120000   \n",
      "1       2024               MI              FT        Data Scientist   70000   \n",
      "2       2024               MI              CT        Data Scientist  130000   \n",
      "3       2024               MI              CT        Data Scientist  110000   \n",
      "4       2024               MI              FT  Data Science Manager  240000   \n",
      "\n",
      "  salary_currency  salary_in_usd employee_residence  remote_ratio  \\\n",
      "0             USD         120000                 AU             0   \n",
      "1             USD          70000                 AU             0   \n",
      "2             USD         130000                 US             0   \n",
      "3             USD         110000                 US             0   \n",
      "4             USD         240000                 US             0   \n",
      "\n",
      "  company_location company_size gender  \n",
      "0               AU            S      F  \n",
      "1               AU            S      M  \n",
      "2               US            M      M  \n",
      "3               US            M      M  \n",
      "4               US            M      M  \n"
     ]
    }
   ],
   "source": [
    "file_path = r'C:\\Users\\emin.sen\\Downloads\\salaries.csv'\n",
    "\n",
    "df = pd.read_csv(file_path)\n",
    "print(df.head())"
   ]
  },
  {
   "cell_type": "code",
   "execution_count": 32,
   "id": "6f31b6be-3c20-4466-b088-6abc46fd0ab5",
   "metadata": {},
   "outputs": [
    {
     "name": "stdout",
     "output_type": "stream",
     "text": [
      "   work_year experience_level employment_type             job_title  salary  \\\n",
      "0       2024               MI              FT        Data Scientist  120000   \n",
      "1       2024               MI              FT        Data Scientist   70000   \n",
      "2       2024               MI              CT        Data Scientist  130000   \n",
      "3       2024               MI              CT        Data Scientist  110000   \n",
      "4       2024               MI              FT  Data Science Manager  240000   \n",
      "\n",
      "  salary_currency  salary_in_usd employee_residence  remote_ratio  \\\n",
      "0             USD         120000                 AU             0   \n",
      "1             USD          70000                 AU             0   \n",
      "2             USD         130000                 US             0   \n",
      "3             USD         110000                 US             0   \n",
      "4             USD         240000                 US             0   \n",
      "\n",
      "  company_location company_size gender      level  \n",
      "0               AU            S      F  Mid-Level  \n",
      "1               AU            S      M  Mid-Level  \n",
      "2               US            M      M  Mid-Level  \n",
      "3               US            M      M  Mid-Level  \n",
      "4               US            M      M  Mid-Level  \n"
     ]
    }
   ],
   "source": [
    "level_mapping = {\n",
    "    'EN': 'Entry Level',\n",
    "    'EX': 'Experienced',\n",
    "    'MI': 'Mid-Level',\n",
    "    'SE': 'Senior'\n",
    "}\n",
    "\n",
    "df['level'] = df['experience_level'].map(level_mapping)\n",
    "\n",
    "print(df.head())"
   ]
  },
  {
   "cell_type": "code",
   "execution_count": 33,
   "id": "23e3e509-4814-4ac2-a0b1-49e904c6283a",
   "metadata": {},
   "outputs": [
    {
     "name": "stdout",
     "output_type": "stream",
     "text": [
      "  Alpha-2         Country\n",
      "0      AF     Afghanistan\n",
      "1      AL         Albania\n",
      "2      DZ         Algeria\n",
      "3      AS  American Samoa\n",
      "4      AD         Andorra\n"
     ]
    }
   ],
   "source": [
    "file_path2 = r'C:\\Users\\emin.sen\\Downloads\\Country Codes - countrycodes.csv'\n",
    "\n",
    "df2 = pd.read_csv(file_path2)\n",
    "\n",
    "print(df2.head())"
   ]
  },
  {
   "cell_type": "code",
   "execution_count": 35,
   "id": "d0221c11-ad24-4122-8436-674ec1fa0e44",
   "metadata": {},
   "outputs": [
    {
     "name": "stdout",
     "output_type": "stream",
     "text": [
      "   work_year experience_level employment_type             job_title  salary  \\\n",
      "0       2024               MI              FT        Data Scientist  120000   \n",
      "1       2024               MI              FT        Data Scientist   70000   \n",
      "2       2024               MI              CT        Data Scientist  130000   \n",
      "3       2024               MI              CT        Data Scientist  110000   \n",
      "4       2024               MI              FT  Data Science Manager  240000   \n",
      "\n",
      "  salary_currency  salary_in_usd employee_residence  remote_ratio  \\\n",
      "0             USD         120000                 AU             0   \n",
      "1             USD          70000                 AU             0   \n",
      "2             USD         130000                 US             0   \n",
      "3             USD         110000                 US             0   \n",
      "4             USD         240000                 US             0   \n",
      "\n",
      "  company_location company_size gender      level                   country  \\\n",
      "0               AU            S      F  Mid-Level                 Australia   \n",
      "1               AU            S      M  Mid-Level                 Australia   \n",
      "2               US            M      M  Mid-Level  United States of America   \n",
      "3               US            M      M  Mid-Level  United States of America   \n",
      "4               US            M      M  Mid-Level  United States of America   \n",
      "\n",
      "            company_country  \n",
      "0                 Australia  \n",
      "1                 Australia  \n",
      "2  United States of America  \n",
      "3  United States of America  \n",
      "4  United States of America  \n"
     ]
    }
   ],
   "source": [
    "country_mapping = df2.set_index('Alpha-2')['Country'].to_dict()\n",
    "df['country'] = df['employee_residence'].map(country_mapping)\n",
    "df['company_country'] = df['company_location'].map(country_mapping)\n",
    "print(df.head())\n"
   ]
  },
  {
   "cell_type": "code",
   "execution_count": 50,
   "id": "9fc8824b-48ba-43a9-8b58-6c70520c17df",
   "metadata": {},
   "outputs": [
    {
     "name": "stdout",
     "output_type": "stream",
     "text": [
      "            work_year experience_level employment_type             job_title  \\\n",
      "row_number                                                                     \n",
      "0                2024               MI              FT        Data Scientist   \n",
      "1                2024               MI              FT        Data Scientist   \n",
      "2                2024               MI              CT        Data Scientist   \n",
      "3                2024               MI              CT        Data Scientist   \n",
      "4                2024               MI              FT  Data Science Manager   \n",
      "\n",
      "            salary salary_currency  salary_in_usd employee_residence  \\\n",
      "row_number                                                             \n",
      "0           120000             USD         120000                 AU   \n",
      "1            70000             USD          70000                 AU   \n",
      "2           130000             USD         130000                 US   \n",
      "3           110000             USD         110000                 US   \n",
      "4           240000             USD         240000                 US   \n",
      "\n",
      "            remote_ratio company_location company_size gender      level  \\\n",
      "row_number                                                                 \n",
      "0                      0               AU            S      F  Mid-Level   \n",
      "1                      0               AU            S      M  Mid-Level   \n",
      "2                      0               US            M      M  Mid-Level   \n",
      "3                      0               US            M      M  Mid-Level   \n",
      "4                      0               US            M      M  Mid-Level   \n",
      "\n",
      "                             country           company_country   Currency  \n",
      "row_number                                                                 \n",
      "0                          Australia                 Australia  US Dollar  \n",
      "1                          Australia                 Australia  US Dollar  \n",
      "2           United States of America  United States of America  US Dollar  \n",
      "3           United States of America  United States of America  US Dollar  \n",
      "4           United States of America  United States of America  US Dollar  \n"
     ]
    }
   ],
   "source": [
    " \n",
    " \n",
    "df = df.reset_index(drop=True)\n",
    "df.index.name = 'row_number'\n",
    "\n",
    "print(df.head())\n"
   ]
  },
  {
   "cell_type": "code",
   "execution_count": 51,
   "id": "eda43ccf-bca6-49ee-97d3-61e33754db7f",
   "metadata": {},
   "outputs": [],
   "source": [
    "path = r'C:\\Users\\emin.sen\\Desktop\\salaries.csv'\n",
    "df.to_csv(path)"
   ]
  },
  {
   "cell_type": "code",
   "execution_count": 42,
   "id": "29c80ac1-8bf8-4777-9518-650ff3b5ac92",
   "metadata": {},
   "outputs": [
    {
     "name": "stdout",
     "output_type": "stream",
     "text": [
      "          Country        Currency Code  Number\n",
      "0     AFGHANISTAN         Afghani  AFN   971.0\n",
      "1         ALBANIA             Lek  ALL     8.0\n",
      "2         ALGERIA  Algerian Dinar  DZD    12.0\n",
      "3  AMERICAN SAMOA       US Dollar  USD   840.0\n",
      "4         ANDORRA            Euro  EUR   978.0\n"
     ]
    }
   ],
   "source": [
    "file_path3 = r'C:\\Users\\emin.sen\\Downloads\\Country Codes - currency codes.csv'\n",
    "\n",
    "df3 = pd.read_csv(file_path3)\n",
    "\n",
    "print(df3.head())"
   ]
  },
  {
   "cell_type": "code",
   "execution_count": 49,
   "id": "d2aa9129-1e4b-45f6-8bab-de3d1d365645",
   "metadata": {},
   "outputs": [
    {
     "name": "stdout",
     "output_type": "stream",
     "text": [
      "            work_year experience_level employment_type             job_title  \\\n",
      "row_number                                                                     \n",
      "0                2024               MI              FT        Data Scientist   \n",
      "1                2024               MI              FT        Data Scientist   \n",
      "2                2024               MI              CT        Data Scientist   \n",
      "3                2024               MI              CT        Data Scientist   \n",
      "4                2024               MI              FT  Data Science Manager   \n",
      "\n",
      "            salary salary_currency  salary_in_usd employee_residence  \\\n",
      "row_number                                                             \n",
      "0           120000             USD         120000                 AU   \n",
      "1            70000             USD          70000                 AU   \n",
      "2           130000             USD         130000                 US   \n",
      "3           110000             USD         110000                 US   \n",
      "4           240000             USD         240000                 US   \n",
      "\n",
      "            remote_ratio company_location company_size gender      level  \\\n",
      "row_number                                                                 \n",
      "0                      0               AU            S      F  Mid-Level   \n",
      "1                      0               AU            S      M  Mid-Level   \n",
      "2                      0               US            M      M  Mid-Level   \n",
      "3                      0               US            M      M  Mid-Level   \n",
      "4                      0               US            M      M  Mid-Level   \n",
      "\n",
      "                             country           company_country   Currency  \n",
      "row_number                                                                 \n",
      "0                          Australia                 Australia  US Dollar  \n",
      "1                          Australia                 Australia  US Dollar  \n",
      "2           United States of America  United States of America  US Dollar  \n",
      "3           United States of America  United States of America  US Dollar  \n",
      "4           United States of America  United States of America  US Dollar  \n"
     ]
    }
   ],
   "source": [
    "currencymap = df3.set_index('Code')['Currency'].to_dict()\n",
    "df['Currency'] = df['salary_currency'].map(currencymap)\n",
    "print(df.head())"
   ]
  },
  {
   "cell_type": "code",
   "execution_count": 47,
   "id": "b9ff6a4b-68ae-47ae-8f5f-e581bd22f6b6",
   "metadata": {},
   "outputs": [],
   "source": [
    "df.to_csv(path)"
   ]
  }
 ],
 "metadata": {
  "kernelspec": {
   "display_name": "Python 3 (ipykernel)",
   "language": "python",
   "name": "python3"
  },
  "language_info": {
   "codemirror_mode": {
    "name": "ipython",
    "version": 3
   },
   "file_extension": ".py",
   "mimetype": "text/x-python",
   "name": "python",
   "nbconvert_exporter": "python",
   "pygments_lexer": "ipython3",
   "version": "3.11.7"
  }
 },
 "nbformat": 4,
 "nbformat_minor": 5
}
