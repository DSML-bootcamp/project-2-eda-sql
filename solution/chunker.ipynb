{
 "cells": [
  {
   "cell_type": "code",
   "execution_count": 8,
   "metadata": {},
   "outputs": [],
   "source": [
    "import pandas as pd"
   ]
  },
  {
   "cell_type": "code",
   "execution_count": 13,
   "metadata": {},
   "outputs": [
    {
     "name": "stdout",
     "output_type": "stream",
     "text": [
      "Saved Books/Books Dataset/chunk_1.csv\n",
      "Saved Books/Books Dataset/chunk_2.csv\n",
      "Saved Books/Books Dataset/chunk_3.csv\n",
      "Saved Books/Books Dataset/chunk_4.csv\n"
     ]
    },
    {
     "name": "stderr",
     "output_type": "stream",
     "text": [
      "b'Skipping line 6452: expected 8 fields, saw 9\\n'\n"
     ]
    },
    {
     "name": "stdout",
     "output_type": "stream",
     "text": [
      "Saved Books/Books Dataset/chunk_5.csv\n",
      "Saved Books/Books Dataset/chunk_6.csv\n",
      "Saved Books/Books Dataset/chunk_7.csv\n",
      "Saved Books/Books Dataset/chunk_8.csv\n"
     ]
    },
    {
     "name": "stderr",
     "output_type": "stream",
     "text": [
      "b'Skipping line 43667: expected 8 fields, saw 10\\n'\n",
      "b'Skipping line 51751: expected 8 fields, saw 9\\n'\n"
     ]
    },
    {
     "name": "stdout",
     "output_type": "stream",
     "text": [
      "Saved Books/Books Dataset/chunk_9.csv\n",
      "Saved Books/Books Dataset/chunk_10.csv\n",
      "Saved Books/Books Dataset/chunk_11.csv\n",
      "Saved Books/Books Dataset/chunk_12.csv\n",
      "Saved Books/Books Dataset/chunk_13.csv\n",
      "Saved Books/Books Dataset/chunk_14.csv\n",
      "Saved Books/Books Dataset/chunk_15.csv\n",
      "Saved Books/Books Dataset/chunk_16.csv\n",
      "Saved Books/Books Dataset/chunk_17.csv\n",
      "Saved Books/Books Dataset/chunk_18.csv\n",
      "Saved Books/Books Dataset/chunk_19.csv\n",
      "Saved Books/Books Dataset/chunk_20.csv\n",
      "Saved Books/Books Dataset/chunk_21.csv\n"
     ]
    },
    {
     "name": "stderr",
     "output_type": "stream",
     "text": [
      "b'Skipping line 92038: expected 8 fields, saw 9\\n'\n",
      "b'Skipping line 104319: expected 8 fields, saw 9\\n'\n"
     ]
    },
    {
     "name": "stdout",
     "output_type": "stream",
     "text": [
      "Saved Books/Books Dataset/chunk_22.csv\n",
      "Saved Books/Books Dataset/chunk_23.csv\n",
      "Saved Books/Books Dataset/chunk_24.csv\n",
      "Saved Books/Books Dataset/chunk_25.csv\n"
     ]
    },
    {
     "name": "stderr",
     "output_type": "stream",
     "text": [
      "b'Skipping line 121768: expected 8 fields, saw 9\\n'\n"
     ]
    },
    {
     "name": "stdout",
     "output_type": "stream",
     "text": [
      "Saved Books/Books Dataset/chunk_26.csv\n",
      "Saved Books/Books Dataset/chunk_27.csv\n",
      "Saved Books/Books Dataset/chunk_28.csv\n",
      "Saved Books/Books Dataset/chunk_29.csv\n"
     ]
    },
    {
     "name": "stderr",
     "output_type": "stream",
     "text": [
      "b'Skipping line 144058: expected 8 fields, saw 9\\n'\n",
      "b'Skipping line 150789: expected 8 fields, saw 9\\n'\n",
      "b'Skipping line 157128: expected 8 fields, saw 9\\n'\n"
     ]
    },
    {
     "name": "stdout",
     "output_type": "stream",
     "text": [
      "Saved Books/Books Dataset/chunk_30.csv\n",
      "Saved Books/Books Dataset/chunk_31.csv\n",
      "Saved Books/Books Dataset/chunk_32.csv\n",
      "Saved Books/Books Dataset/chunk_33.csv\n",
      "Saved Books/Books Dataset/chunk_34.csv\n",
      "Saved Books/Books Dataset/chunk_35.csv\n",
      "Saved Books/Books Dataset/chunk_36.csv\n",
      "Saved Books/Books Dataset/chunk_37.csv\n"
     ]
    },
    {
     "name": "stderr",
     "output_type": "stream",
     "text": [
      "b'Skipping line 180189: expected 8 fields, saw 9\\n'\n",
      "b'Skipping line 185738: expected 8 fields, saw 9\\n'\n"
     ]
    },
    {
     "name": "stdout",
     "output_type": "stream",
     "text": [
      "Saved Books/Books Dataset/chunk_38.csv\n",
      "Saved Books/Books Dataset/chunk_39.csv\n",
      "Saved Books/Books Dataset/chunk_40.csv\n",
      "Saved Books/Books Dataset/chunk_41.csv\n"
     ]
    },
    {
     "name": "stderr",
     "output_type": "stream",
     "text": [
      "b'Skipping line 209388: expected 8 fields, saw 9\\n'\n",
      "b'Skipping line 220626: expected 8 fields, saw 9\\n'\n"
     ]
    },
    {
     "name": "stdout",
     "output_type": "stream",
     "text": [
      "Saved Books/Books Dataset/chunk_42.csv\n",
      "Saved Books/Books Dataset/chunk_43.csv\n",
      "Saved Books/Books Dataset/chunk_44.csv\n",
      "Saved Books/Books Dataset/chunk_45.csv\n"
     ]
    },
    {
     "name": "stderr",
     "output_type": "stream",
     "text": [
      "b'Skipping line 227933: expected 8 fields, saw 11\\nSkipping line 228957: expected 8 fields, saw 10\\n'\n"
     ]
    },
    {
     "name": "stdout",
     "output_type": "stream",
     "text": [
      "Saved Books/Books Dataset/chunk_46.csv\n",
      "Saved Books/Books Dataset/chunk_47.csv\n",
      "Saved Books/Books Dataset/chunk_48.csv\n",
      "Saved Books/Books Dataset/chunk_49.csv\n"
     ]
    },
    {
     "name": "stderr",
     "output_type": "stream",
     "text": [
      "b'Skipping line 245933: expected 8 fields, saw 9\\n'\n",
      "b'Skipping line 251296: expected 8 fields, saw 9\\n'\n",
      "b'Skipping line 259941: expected 8 fields, saw 9\\n'\n",
      "b'Skipping line 261529: expected 8 fields, saw 9\\n'\n"
     ]
    },
    {
     "name": "stdout",
     "output_type": "stream",
     "text": [
      "Saved Books/Books Dataset/chunk_50.csv\n",
      "Saved Books/Books Dataset/chunk_51.csv\n",
      "Saved Books/Books Dataset/chunk_52.csv\n",
      "Saved Books/Books Dataset/chunk_53.csv\n",
      "Saved Books/Books Dataset/chunk_54.csv\n",
      "Saved Books/Books Dataset/chunk_55.csv\n"
     ]
    }
   ],
   "source": [
    "def split_csv(file_path, output_folder, chunk_size=5000, sep=','):\n",
    "    \"\"\"\n",
    "    Splits a large CSV file into multiple smaller CSV files.\n",
    "\n",
    "    Parameters:\n",
    "    file_path (str): Path to the input CSV file.\n",
    "    output_folder (str): Folder where the smaller CSV files will be saved.\n",
    "    chunk_size (int): Maximum number of rows per smaller CSV file.\n",
    "    \"\"\"\n",
    "    chunk_iter = pd.read_csv(file_path, chunksize=chunk_size, sep=sep, error_bad_lines=False)\n",
    "    \n",
    "    for i, chunk in enumerate(chunk_iter):\n",
    "        output_file = f\"{output_folder}/chunk_{i + 1}.csv\"\n",
    "        chunk.to_csv(output_file, index=False)\n",
    "        print(f\"Saved {output_file}\")\n",
    "\n",
    "file_path = 'Books/Books Dataset/books.csv'  \n",
    "output_folder = 'Books/Books Dataset' \n",
    "\n",
    "split_csv(file_path, output_folder, sep=';')\n"
   ]
  },
  {
   "cell_type": "code",
   "execution_count": 2,
   "metadata": {},
   "outputs": [],
   "source": [
    "def max_string_length(file_path):\n",
    "    \"\"\"\n",
    "    Calculate the maximum string length for each column in a CSV file.\n",
    "\n",
    "    Parameters:\n",
    "    file_path (str): Path to the CSV file.\n",
    "\n",
    "    Returns:\n",
    "    dict: A dictionary with column names as keys and maximum string lengths as values.\n",
    "    \"\"\"\n",
    "    df = pd.read_csv(file_path)\n",
    "    max_lengths = {col: df[col].astype(str).map(len).max() for col in df.columns}\n",
    "    return max_lengths"
   ]
  },
  {
   "cell_type": "code",
   "execution_count": 7,
   "metadata": {},
   "outputs": [
    {
     "data": {
      "text/plain": [
       "{'userID': 6, 'Location': 103, 'Age': 2}"
      ]
     },
     "execution_count": 7,
     "metadata": {},
     "output_type": "execute_result"
    }
   ],
   "source": [
    "max_string_length('Books/Books Dataset/cu.csv')"
   ]
  }
 ],
 "metadata": {
  "kernelspec": {
   "display_name": "Python 3",
   "language": "python",
   "name": "python3"
  },
  "language_info": {
   "codemirror_mode": {
    "name": "ipython",
    "version": 3
   },
   "file_extension": ".py",
   "mimetype": "text/x-python",
   "name": "python",
   "nbconvert_exporter": "python",
   "pygments_lexer": "ipython3",
   "version": "3.11.9"
  }
 },
 "nbformat": 4,
 "nbformat_minor": 2
}
