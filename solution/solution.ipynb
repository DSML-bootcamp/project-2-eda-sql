{
 "cells": [
  {
   "cell_type": "code",
   "execution_count": 86,
   "metadata": {},
   "outputs": [],
   "source": [
    "import numpy as np\n",
    "import pandas as pd\n",
    "import seaborn as sns\n",
    "import matplotlib.pyplot as plt"
   ]
  },
  {
   "cell_type": "code",
   "execution_count": 87,
   "metadata": {},
   "outputs": [],
   "source": [
    "import warnings\n",
    "warnings.filterwarnings('ignore')"
   ]
  },
  {
   "cell_type": "code",
   "execution_count": 113,
   "metadata": {},
   "outputs": [
    {
     "name": "stderr",
     "output_type": "stream",
     "text": [
      "b'Skipping line 6452: expected 8 fields, saw 9\\nSkipping line 43667: expected 8 fields, saw 10\\nSkipping line 51751: expected 8 fields, saw 9\\n'\n",
      "b'Skipping line 92038: expected 8 fields, saw 9\\nSkipping line 104319: expected 8 fields, saw 9\\nSkipping line 121768: expected 8 fields, saw 9\\n'\n",
      "b'Skipping line 144058: expected 8 fields, saw 9\\nSkipping line 150789: expected 8 fields, saw 9\\nSkipping line 157128: expected 8 fields, saw 9\\nSkipping line 180189: expected 8 fields, saw 9\\nSkipping line 185738: expected 8 fields, saw 9\\n'\n",
      "b'Skipping line 209388: expected 8 fields, saw 9\\nSkipping line 220626: expected 8 fields, saw 9\\nSkipping line 227933: expected 8 fields, saw 11\\nSkipping line 228957: expected 8 fields, saw 10\\nSkipping line 245933: expected 8 fields, saw 9\\nSkipping line 251296: expected 8 fields, saw 9\\nSkipping line 259941: expected 8 fields, saw 9\\nSkipping line 261529: expected 8 fields, saw 9\\n'\n"
     ]
    },
    {
     "data": {
      "text/html": [
       "<div>\n",
       "<style scoped>\n",
       "    .dataframe tbody tr th:only-of-type {\n",
       "        vertical-align: middle;\n",
       "    }\n",
       "\n",
       "    .dataframe tbody tr th {\n",
       "        vertical-align: top;\n",
       "    }\n",
       "\n",
       "    .dataframe thead th {\n",
       "        text-align: right;\n",
       "    }\n",
       "</style>\n",
       "<table border=\"1\" class=\"dataframe\">\n",
       "  <thead>\n",
       "    <tr style=\"text-align: right;\">\n",
       "      <th></th>\n",
       "      <th>ISBN</th>\n",
       "      <th>Book-Title</th>\n",
       "      <th>Book-Author</th>\n",
       "      <th>Year-Of-Publication</th>\n",
       "      <th>Publisher</th>\n",
       "      <th>Image-URL-S</th>\n",
       "      <th>Image-URL-M</th>\n",
       "      <th>Image-URL-L</th>\n",
       "    </tr>\n",
       "  </thead>\n",
       "  <tbody>\n",
       "    <tr>\n",
       "      <th>264055</th>\n",
       "      <td>1581170238</td>\n",
       "      <td>Monster Pops: Dinner Time, Oh My a Fly, Small ...</td>\n",
       "      <td>Jan Pienkowski</td>\n",
       "      <td>2000</td>\n",
       "      <td>Piggy Toes Press</td>\n",
       "      <td>http://images.amazon.com/images/P/1581170238.0...</td>\n",
       "      <td>http://images.amazon.com/images/P/1581170238.0...</td>\n",
       "      <td>http://images.amazon.com/images/P/1581170238.0...</td>\n",
       "    </tr>\n",
       "    <tr>\n",
       "      <th>177806</th>\n",
       "      <td>3791512013</td>\n",
       "      <td>Mein zweites Ich. ( Ab 13 J.).</td>\n",
       "      <td>Lael Littke</td>\n",
       "      <td>2000</td>\n",
       "      <td>Dressler Verlag</td>\n",
       "      <td>http://images.amazon.com/images/P/3791512013.0...</td>\n",
       "      <td>http://images.amazon.com/images/P/3791512013.0...</td>\n",
       "      <td>http://images.amazon.com/images/P/3791512013.0...</td>\n",
       "    </tr>\n",
       "    <tr>\n",
       "      <th>130171</th>\n",
       "      <td>0060934662</td>\n",
       "      <td>Resuscitation of a Hanged Man</td>\n",
       "      <td>Denis Johnson</td>\n",
       "      <td>2001</td>\n",
       "      <td>Perennial</td>\n",
       "      <td>http://images.amazon.com/images/P/0060934662.0...</td>\n",
       "      <td>http://images.amazon.com/images/P/0060934662.0...</td>\n",
       "      <td>http://images.amazon.com/images/P/0060934662.0...</td>\n",
       "    </tr>\n",
       "    <tr>\n",
       "      <th>265399</th>\n",
       "      <td>0142300934</td>\n",
       "      <td>When I Was Older</td>\n",
       "      <td>Garret Weyr</td>\n",
       "      <td>2002</td>\n",
       "      <td>Puffin Books</td>\n",
       "      <td>http://images.amazon.com/images/P/0142300934.0...</td>\n",
       "      <td>http://images.amazon.com/images/P/0142300934.0...</td>\n",
       "      <td>http://images.amazon.com/images/P/0142300934.0...</td>\n",
       "    </tr>\n",
       "    <tr>\n",
       "      <th>56932</th>\n",
       "      <td>0805058265</td>\n",
       "      <td>Passionate Marriage: Love, Sex, and Intimacy i...</td>\n",
       "      <td>David Schnarch</td>\n",
       "      <td>1998</td>\n",
       "      <td>Owl Books (NY)</td>\n",
       "      <td>http://images.amazon.com/images/P/0805058265.0...</td>\n",
       "      <td>http://images.amazon.com/images/P/0805058265.0...</td>\n",
       "      <td>http://images.amazon.com/images/P/0805058265.0...</td>\n",
       "    </tr>\n",
       "    <tr>\n",
       "      <th>134617</th>\n",
       "      <td>0006375340</td>\n",
       "      <td>The Green Age Diet Plan</td>\n",
       "      <td>Elliot Rose</td>\n",
       "      <td>1990</td>\n",
       "      <td>HarperCollins Publishers</td>\n",
       "      <td>http://images.amazon.com/images/P/0006375340.0...</td>\n",
       "      <td>http://images.amazon.com/images/P/0006375340.0...</td>\n",
       "      <td>http://images.amazon.com/images/P/0006375340.0...</td>\n",
       "    </tr>\n",
       "    <tr>\n",
       "      <th>151181</th>\n",
       "      <td>0743463064</td>\n",
       "      <td>Killer's Payoff (87th Precinct Mysteries (Pape...</td>\n",
       "      <td>Ed McBain</td>\n",
       "      <td>2002</td>\n",
       "      <td>Pocket</td>\n",
       "      <td>http://images.amazon.com/images/P/0743463064.0...</td>\n",
       "      <td>http://images.amazon.com/images/P/0743463064.0...</td>\n",
       "      <td>http://images.amazon.com/images/P/0743463064.0...</td>\n",
       "    </tr>\n",
       "    <tr>\n",
       "      <th>158579</th>\n",
       "      <td>0830811877</td>\n",
       "      <td>The Creative Life: A Workbook for Unearthing t...</td>\n",
       "      <td>Alice Bass</td>\n",
       "      <td>2001</td>\n",
       "      <td>InterVarsity Press</td>\n",
       "      <td>http://images.amazon.com/images/P/0830811877.0...</td>\n",
       "      <td>http://images.amazon.com/images/P/0830811877.0...</td>\n",
       "      <td>http://images.amazon.com/images/P/0830811877.0...</td>\n",
       "    </tr>\n",
       "    <tr>\n",
       "      <th>157949</th>\n",
       "      <td>8401421578</td>\n",
       "      <td>LA Casa De Las Mil Virgenes</td>\n",
       "      <td>Arturo Azuela</td>\n",
       "      <td>1996</td>\n",
       "      <td>Aims Intl Books</td>\n",
       "      <td>http://images.amazon.com/images/P/8401421578.0...</td>\n",
       "      <td>http://images.amazon.com/images/P/8401421578.0...</td>\n",
       "      <td>http://images.amazon.com/images/P/8401421578.0...</td>\n",
       "    </tr>\n",
       "    <tr>\n",
       "      <th>38813</th>\n",
       "      <td>0486200019</td>\n",
       "      <td>Flatland</td>\n",
       "      <td>Edwin A. Abbott</td>\n",
       "      <td>1975</td>\n",
       "      <td>Dover Publications</td>\n",
       "      <td>http://images.amazon.com/images/P/0486200019.0...</td>\n",
       "      <td>http://images.amazon.com/images/P/0486200019.0...</td>\n",
       "      <td>http://images.amazon.com/images/P/0486200019.0...</td>\n",
       "    </tr>\n",
       "  </tbody>\n",
       "</table>\n",
       "</div>"
      ],
      "text/plain": [
       "              ISBN                                         Book-Title  \\\n",
       "264055  1581170238  Monster Pops: Dinner Time, Oh My a Fly, Small ...   \n",
       "177806  3791512013                     Mein zweites Ich. ( Ab 13 J.).   \n",
       "130171  0060934662                      Resuscitation of a Hanged Man   \n",
       "265399  0142300934                                   When I Was Older   \n",
       "56932   0805058265  Passionate Marriage: Love, Sex, and Intimacy i...   \n",
       "134617  0006375340                            The Green Age Diet Plan   \n",
       "151181  0743463064  Killer's Payoff (87th Precinct Mysteries (Pape...   \n",
       "158579  0830811877  The Creative Life: A Workbook for Unearthing t...   \n",
       "157949  8401421578                        LA Casa De Las Mil Virgenes   \n",
       "38813   0486200019                                           Flatland   \n",
       "\n",
       "            Book-Author Year-Of-Publication                 Publisher  \\\n",
       "264055   Jan Pienkowski                2000          Piggy Toes Press   \n",
       "177806      Lael Littke                2000           Dressler Verlag   \n",
       "130171    Denis Johnson                2001                 Perennial   \n",
       "265399      Garret Weyr                2002              Puffin Books   \n",
       "56932    David Schnarch                1998            Owl Books (NY)   \n",
       "134617      Elliot Rose                1990  HarperCollins Publishers   \n",
       "151181        Ed McBain                2002                    Pocket   \n",
       "158579       Alice Bass                2001        InterVarsity Press   \n",
       "157949    Arturo Azuela                1996           Aims Intl Books   \n",
       "38813   Edwin A. Abbott                1975        Dover Publications   \n",
       "\n",
       "                                              Image-URL-S  \\\n",
       "264055  http://images.amazon.com/images/P/1581170238.0...   \n",
       "177806  http://images.amazon.com/images/P/3791512013.0...   \n",
       "130171  http://images.amazon.com/images/P/0060934662.0...   \n",
       "265399  http://images.amazon.com/images/P/0142300934.0...   \n",
       "56932   http://images.amazon.com/images/P/0805058265.0...   \n",
       "134617  http://images.amazon.com/images/P/0006375340.0...   \n",
       "151181  http://images.amazon.com/images/P/0743463064.0...   \n",
       "158579  http://images.amazon.com/images/P/0830811877.0...   \n",
       "157949  http://images.amazon.com/images/P/8401421578.0...   \n",
       "38813   http://images.amazon.com/images/P/0486200019.0...   \n",
       "\n",
       "                                              Image-URL-M  \\\n",
       "264055  http://images.amazon.com/images/P/1581170238.0...   \n",
       "177806  http://images.amazon.com/images/P/3791512013.0...   \n",
       "130171  http://images.amazon.com/images/P/0060934662.0...   \n",
       "265399  http://images.amazon.com/images/P/0142300934.0...   \n",
       "56932   http://images.amazon.com/images/P/0805058265.0...   \n",
       "134617  http://images.amazon.com/images/P/0006375340.0...   \n",
       "151181  http://images.amazon.com/images/P/0743463064.0...   \n",
       "158579  http://images.amazon.com/images/P/0830811877.0...   \n",
       "157949  http://images.amazon.com/images/P/8401421578.0...   \n",
       "38813   http://images.amazon.com/images/P/0486200019.0...   \n",
       "\n",
       "                                              Image-URL-L  \n",
       "264055  http://images.amazon.com/images/P/1581170238.0...  \n",
       "177806  http://images.amazon.com/images/P/3791512013.0...  \n",
       "130171  http://images.amazon.com/images/P/0060934662.0...  \n",
       "265399  http://images.amazon.com/images/P/0142300934.0...  \n",
       "56932   http://images.amazon.com/images/P/0805058265.0...  \n",
       "134617  http://images.amazon.com/images/P/0006375340.0...  \n",
       "151181  http://images.amazon.com/images/P/0743463064.0...  \n",
       "158579  http://images.amazon.com/images/P/0830811877.0...  \n",
       "157949  http://images.amazon.com/images/P/8401421578.0...  \n",
       "38813   http://images.amazon.com/images/P/0486200019.0...  "
      ]
     },
     "execution_count": 113,
     "metadata": {},
     "output_type": "execute_result"
    }
   ],
   "source": [
    "books = pd.read_csv('Books/Books Dataset/books.csv', sep=';', error_bad_lines=False)\n",
    "books.sample(10)"
   ]
  },
  {
   "cell_type": "code",
   "execution_count": 89,
   "metadata": {},
   "outputs": [
    {
     "data": {
      "text/html": [
       "<div>\n",
       "<style scoped>\n",
       "    .dataframe tbody tr th:only-of-type {\n",
       "        vertical-align: middle;\n",
       "    }\n",
       "\n",
       "    .dataframe tbody tr th {\n",
       "        vertical-align: top;\n",
       "    }\n",
       "\n",
       "    .dataframe thead th {\n",
       "        text-align: right;\n",
       "    }\n",
       "</style>\n",
       "<table border=\"1\" class=\"dataframe\">\n",
       "  <thead>\n",
       "    <tr style=\"text-align: right;\">\n",
       "      <th></th>\n",
       "      <th>User-ID</th>\n",
       "      <th>ISBN</th>\n",
       "      <th>Book-Rating</th>\n",
       "    </tr>\n",
       "  </thead>\n",
       "  <tbody>\n",
       "    <tr>\n",
       "      <th>1133860</th>\n",
       "      <td>272225</td>\n",
       "      <td>0425154092</td>\n",
       "      <td>0</td>\n",
       "    </tr>\n",
       "    <tr>\n",
       "      <th>504997</th>\n",
       "      <td>122802</td>\n",
       "      <td>0440227534</td>\n",
       "      <td>0</td>\n",
       "    </tr>\n",
       "    <tr>\n",
       "      <th>490977</th>\n",
       "      <td>117111</td>\n",
       "      <td>0553576143</td>\n",
       "      <td>0</td>\n",
       "    </tr>\n",
       "    <tr>\n",
       "      <th>389105</th>\n",
       "      <td>93872</td>\n",
       "      <td>1570624240</td>\n",
       "      <td>0</td>\n",
       "    </tr>\n",
       "    <tr>\n",
       "      <th>407593</th>\n",
       "      <td>98391</td>\n",
       "      <td>0373764421</td>\n",
       "      <td>8</td>\n",
       "    </tr>\n",
       "  </tbody>\n",
       "</table>\n",
       "</div>"
      ],
      "text/plain": [
       "         User-ID        ISBN  Book-Rating\n",
       "1133860   272225  0425154092            0\n",
       "504997    122802  0440227534            0\n",
       "490977    117111  0553576143            0\n",
       "389105     93872  1570624240            0\n",
       "407593     98391  0373764421            8"
      ]
     },
     "execution_count": 89,
     "metadata": {},
     "output_type": "execute_result"
    }
   ],
   "source": [
    "ratings = pd.read_csv('Books/Books Dataset/ratings.csv', sep=';', error_bad_lines=False)\n",
    "ratings.sample(5)"
   ]
  },
  {
   "cell_type": "code",
   "execution_count": 90,
   "metadata": {},
   "outputs": [
    {
     "data": {
      "text/html": [
       "<div>\n",
       "<style scoped>\n",
       "    .dataframe tbody tr th:only-of-type {\n",
       "        vertical-align: middle;\n",
       "    }\n",
       "\n",
       "    .dataframe tbody tr th {\n",
       "        vertical-align: top;\n",
       "    }\n",
       "\n",
       "    .dataframe thead th {\n",
       "        text-align: right;\n",
       "    }\n",
       "</style>\n",
       "<table border=\"1\" class=\"dataframe\">\n",
       "  <thead>\n",
       "    <tr style=\"text-align: right;\">\n",
       "      <th></th>\n",
       "      <th>User-ID</th>\n",
       "      <th>Location</th>\n",
       "      <th>Age</th>\n",
       "    </tr>\n",
       "  </thead>\n",
       "  <tbody>\n",
       "    <tr>\n",
       "      <th>160604</th>\n",
       "      <td>160605</td>\n",
       "      <td>elmendorf afb, alaska, usa</td>\n",
       "      <td>27.0</td>\n",
       "    </tr>\n",
       "    <tr>\n",
       "      <th>155730</th>\n",
       "      <td>155731</td>\n",
       "      <td>reguengos de monsaraz, alentejo, portugal</td>\n",
       "      <td>45.0</td>\n",
       "    </tr>\n",
       "    <tr>\n",
       "      <th>125697</th>\n",
       "      <td>125698</td>\n",
       "      <td>kirkland lake, ontario, canada</td>\n",
       "      <td>29.0</td>\n",
       "    </tr>\n",
       "    <tr>\n",
       "      <th>273610</th>\n",
       "      <td>273611</td>\n",
       "      <td>montreal, quebec, canada</td>\n",
       "      <td>34.0</td>\n",
       "    </tr>\n",
       "    <tr>\n",
       "      <th>31670</th>\n",
       "      <td>31671</td>\n",
       "      <td>tucson, arizona, usa</td>\n",
       "      <td>42.0</td>\n",
       "    </tr>\n",
       "  </tbody>\n",
       "</table>\n",
       "</div>"
      ],
      "text/plain": [
       "        User-ID                                   Location   Age\n",
       "160604   160605                 elmendorf afb, alaska, usa  27.0\n",
       "155730   155731  reguengos de monsaraz, alentejo, portugal  45.0\n",
       "125697   125698             kirkland lake, ontario, canada  29.0\n",
       "273610   273611                   montreal, quebec, canada  34.0\n",
       "31670     31671                       tucson, arizona, usa  42.0"
      ]
     },
     "execution_count": 90,
     "metadata": {},
     "output_type": "execute_result"
    }
   ],
   "source": [
    "users = pd.read_csv('Books/Books Dataset/users.csv', sep=';', error_bad_lines=False)\n",
    "users.sample(5)"
   ]
  },
  {
   "cell_type": "markdown",
   "metadata": {},
   "source": [
    "#### Clean the data"
   ]
  },
  {
   "cell_type": "code",
   "execution_count": 116,
   "metadata": {},
   "outputs": [],
   "source": [
    "# Let's rename the columns for easier use\n",
    "books.columns = ['ISBN', 'bookTitle', 'bookAuthor', 'yearOfPublication', 'publisher', \n",
    "                 'imageUrlS', 'imageUrlM', 'imageUrlL']"
   ]
  },
  {
   "cell_type": "code",
   "execution_count": 117,
   "metadata": {},
   "outputs": [],
   "source": [
    "# We don't need the images\n",
    "books.drop(['imageUrlS', 'imageUrlM', 'imageUrlL'],axis=1,inplace=True)"
   ]
  },
  {
   "cell_type": "code",
   "execution_count": 93,
   "metadata": {},
   "outputs": [
    {
     "data": {
      "text/plain": [
       "array([2002, 2001, 1991, 1999, 2000, 1993, 1996, 1988, 2004, 1998, 1994,\n",
       "       2003, 1997, 1983, 1979, 1995, 1982, 1985, 1992, 1986, 1978, 1980,\n",
       "       1952, 1987, 1990, 1981, 1989, 1984, 0, 1968, 1961, 1958, 1974,\n",
       "       1976, 1971, 1977, 1975, 1965, 1941, 1970, 1962, 1973, 1972, 1960,\n",
       "       1966, 1920, 1956, 1959, 1953, 1951, 1942, 1963, 1964, 1969, 1954,\n",
       "       1950, 1967, 2005, 1957, 1940, 1937, 1955, 1946, 1936, 1930, 2011,\n",
       "       1925, 1948, 1943, 1947, 1945, 1923, 2020, 1939, 1926, 1938, 2030,\n",
       "       1911, 1904, 1949, 1932, 1928, 1929, 1927, 1931, 1914, 2050, 1934,\n",
       "       1910, 1933, 1902, 1924, 1921, 1900, 2038, 2026, 1944, 1917, 1901,\n",
       "       2010, 1908, 1906, 1935, 1806, 2021, '2000', '1995', '1999', '2004',\n",
       "       '2003', '1990', '1994', '1986', '1989', '2002', '1981', '1993',\n",
       "       '1983', '1982', '1976', '1991', '1977', '1998', '1992', '1996',\n",
       "       '0', '1997', '2001', '1974', '1968', '1987', '1984', '1988',\n",
       "       '1963', '1956', '1970', '1985', '1978', '1973', '1980', '1979',\n",
       "       '1975', '1969', '1961', '1965', '1939', '1958', '1950', '1953',\n",
       "       '1966', '1971', '1959', '1972', '1955', '1957', '1945', '1960',\n",
       "       '1967', '1932', '1924', '1964', '2012', '1911', '1927', '1948',\n",
       "       '1962', '2006', '1952', '1940', '1951', '1931', '1954', '2005',\n",
       "       '1930', '1941', '1944', 'DK Publishing Inc', '1943', '1938',\n",
       "       '1900', '1942', '1923', '1920', '1933', 'Gallimard', '1909',\n",
       "       '1946', '2008', '1378', '2030', '1936', '1947', '2011', '2020',\n",
       "       '1919', '1949', '1922', '1897', '2024', '1376', '1926', '2037'],\n",
       "      dtype=object)"
      ]
     },
     "execution_count": 93,
     "metadata": {},
     "output_type": "execute_result"
    }
   ],
   "source": [
    "# Let's start cleaning the data\n",
    "# First we look at the yearOfPublication\n",
    "books.yearOfPublication.unique()"
   ]
  },
  {
   "cell_type": "code",
   "execution_count": 94,
   "metadata": {},
   "outputs": [],
   "source": [
    "# We have some incorrect values - DK Publishing Inc, Gallimard - let's remove those\n",
    "books = books[(books.yearOfPublication != 'DK Publishing Inc')\n",
    "              & (books.yearOfPublication != 'Gallimard')]"
   ]
  },
  {
   "cell_type": "code",
   "execution_count": 95,
   "metadata": {},
   "outputs": [
    {
     "data": {
      "text/plain": [
       "ISBN                 object\n",
       "bookTitle            object\n",
       "bookAuthor           object\n",
       "yearOfPublication     int32\n",
       "publisher            object\n",
       "dtype: object"
      ]
     },
     "execution_count": 95,
     "metadata": {},
     "output_type": "execute_result"
    }
   ],
   "source": [
    "# Now we can set the type of the column to int\n",
    "books.yearOfPublication = books.yearOfPublication.astype('int32')\n",
    "books.dtypes"
   ]
  },
  {
   "cell_type": "code",
   "execution_count": 96,
   "metadata": {},
   "outputs": [
    {
     "data": {
      "text/plain": [
       "0"
      ]
     },
     "execution_count": 96,
     "metadata": {},
     "output_type": "execute_result"
    }
   ],
   "source": [
    "# Now let's look at publisher\n",
    "books = books.dropna(subset=['publisher']) # we drop the rows that don't have a publisher filled in\n",
    "books.publisher.isnull().sum()"
   ]
  },
  {
   "cell_type": "code",
   "execution_count": 118,
   "metadata": {},
   "outputs": [
    {
     "data": {
      "text/html": [
       "<div>\n",
       "<style scoped>\n",
       "    .dataframe tbody tr th:only-of-type {\n",
       "        vertical-align: middle;\n",
       "    }\n",
       "\n",
       "    .dataframe tbody tr th {\n",
       "        vertical-align: top;\n",
       "    }\n",
       "\n",
       "    .dataframe thead th {\n",
       "        text-align: right;\n",
       "    }\n",
       "</style>\n",
       "<table border=\"1\" class=\"dataframe\">\n",
       "  <thead>\n",
       "    <tr style=\"text-align: right;\">\n",
       "      <th></th>\n",
       "      <th>ISBN</th>\n",
       "      <th>bookTitle</th>\n",
       "      <th>bookAuthor</th>\n",
       "      <th>yearOfPublication</th>\n",
       "      <th>publisher</th>\n",
       "    </tr>\n",
       "  </thead>\n",
       "  <tbody>\n",
       "    <tr>\n",
       "      <th>34449</th>\n",
       "      <td>0449906116</td>\n",
       "      <td>Husband Is the Past Tense of Daddy and Other D...</td>\n",
       "      <td>Teryl Zarnow</td>\n",
       "      <td>1991</td>\n",
       "      <td>Ballantine Books</td>\n",
       "    </tr>\n",
       "    <tr>\n",
       "      <th>112680</th>\n",
       "      <td>0393955370</td>\n",
       "      <td>The Spanish American Revolution 1808-1826 (Rev...</td>\n",
       "      <td>John Lynch</td>\n",
       "      <td>1986</td>\n",
       "      <td>W. W. Norton &amp;amp; Company</td>\n",
       "    </tr>\n",
       "    <tr>\n",
       "      <th>181089</th>\n",
       "      <td>0805025367</td>\n",
       "      <td>Ancestral Truths</td>\n",
       "      <td>Sara Maitland</td>\n",
       "      <td>1994</td>\n",
       "      <td>Henry Holt &amp;amp; Co</td>\n",
       "    </tr>\n",
       "    <tr>\n",
       "      <th>191482</th>\n",
       "      <td>3293202519</td>\n",
       "      <td>Du meine Pappel im roten Kopftuch.</td>\n",
       "      <td>Tschingis Aitmatow</td>\n",
       "      <td>2003</td>\n",
       "      <td>Unionsverlag</td>\n",
       "    </tr>\n",
       "    <tr>\n",
       "      <th>174209</th>\n",
       "      <td>0806517956</td>\n",
       "      <td>The Cheapskate's Guide to Living Cheaper and B...</td>\n",
       "      <td>Leslie Hamilton</td>\n",
       "      <td>1996</td>\n",
       "      <td>Carol Publishing Corporation</td>\n",
       "    </tr>\n",
       "    <tr>\n",
       "      <th>120960</th>\n",
       "      <td>0312959796</td>\n",
       "      <td>Dreams of You (Dreams of You)</td>\n",
       "      <td>Tina Wainscott</td>\n",
       "      <td>1996</td>\n",
       "      <td>St. Martin's Press</td>\n",
       "    </tr>\n",
       "    <tr>\n",
       "      <th>34305</th>\n",
       "      <td>0060152567</td>\n",
       "      <td>Infante's Inferno</td>\n",
       "      <td>G. Cabrera Infante</td>\n",
       "      <td>1984</td>\n",
       "      <td>Harpercollins</td>\n",
       "    </tr>\n",
       "    <tr>\n",
       "      <th>262461</th>\n",
       "      <td>0207187320</td>\n",
       "      <td>My Brother Jack</td>\n",
       "      <td>George Johnston</td>\n",
       "      <td>0</td>\n",
       "      <td>Harpercollins Publisher</td>\n",
       "    </tr>\n",
       "    <tr>\n",
       "      <th>87090</th>\n",
       "      <td>0020310501</td>\n",
       "      <td>Dangerous Curves: A Slim Callaghan Mystery (Sl...</td>\n",
       "      <td>Peter Cheyney</td>\n",
       "      <td>1989</td>\n",
       "      <td>Simon &amp;amp; Schuster</td>\n",
       "    </tr>\n",
       "    <tr>\n",
       "      <th>268737</th>\n",
       "      <td>0316690694</td>\n",
       "      <td>The Siege : A Family's Journey Into the World ...</td>\n",
       "      <td>Clara Claiborne Park</td>\n",
       "      <td>1982</td>\n",
       "      <td>Back Bay Books</td>\n",
       "    </tr>\n",
       "  </tbody>\n",
       "</table>\n",
       "</div>"
      ],
      "text/plain": [
       "              ISBN                                          bookTitle  \\\n",
       "34449   0449906116  Husband Is the Past Tense of Daddy and Other D...   \n",
       "112680  0393955370  The Spanish American Revolution 1808-1826 (Rev...   \n",
       "181089  0805025367                                   Ancestral Truths   \n",
       "191482  3293202519                 Du meine Pappel im roten Kopftuch.   \n",
       "174209  0806517956  The Cheapskate's Guide to Living Cheaper and B...   \n",
       "120960  0312959796                      Dreams of You (Dreams of You)   \n",
       "34305   0060152567                                  Infante's Inferno   \n",
       "262461  0207187320                                    My Brother Jack   \n",
       "87090   0020310501  Dangerous Curves: A Slim Callaghan Mystery (Sl...   \n",
       "268737  0316690694  The Siege : A Family's Journey Into the World ...   \n",
       "\n",
       "                  bookAuthor yearOfPublication                     publisher  \n",
       "34449           Teryl Zarnow              1991              Ballantine Books  \n",
       "112680            John Lynch              1986    W. W. Norton &amp; Company  \n",
       "181089         Sara Maitland              1994           Henry Holt &amp; Co  \n",
       "191482    Tschingis Aitmatow              2003                  Unionsverlag  \n",
       "174209       Leslie Hamilton              1996  Carol Publishing Corporation  \n",
       "120960        Tina Wainscott              1996            St. Martin's Press  \n",
       "34305     G. Cabrera Infante              1984                 Harpercollins  \n",
       "262461       George Johnston                 0       Harpercollins Publisher  \n",
       "87090          Peter Cheyney              1989          Simon &amp; Schuster  \n",
       "268737  Clara Claiborne Park              1982                Back Bay Books  "
      ]
     },
     "execution_count": 118,
     "metadata": {},
     "output_type": "execute_result"
    }
   ],
   "source": [
    "books.sample(10)"
   ]
  },
  {
   "cell_type": "code",
   "execution_count": 97,
   "metadata": {},
   "outputs": [
    {
     "data": {
      "text/html": [
       "<div>\n",
       "<style scoped>\n",
       "    .dataframe tbody tr th:only-of-type {\n",
       "        vertical-align: middle;\n",
       "    }\n",
       "\n",
       "    .dataframe tbody tr th {\n",
       "        vertical-align: top;\n",
       "    }\n",
       "\n",
       "    .dataframe thead th {\n",
       "        text-align: right;\n",
       "    }\n",
       "</style>\n",
       "<table border=\"1\" class=\"dataframe\">\n",
       "  <thead>\n",
       "    <tr style=\"text-align: right;\">\n",
       "      <th></th>\n",
       "      <th>userID</th>\n",
       "      <th>Location</th>\n",
       "      <th>Age</th>\n",
       "    </tr>\n",
       "  </thead>\n",
       "  <tbody>\n",
       "    <tr>\n",
       "      <th>0</th>\n",
       "      <td>1</td>\n",
       "      <td>nyc, new york, usa</td>\n",
       "      <td>NaN</td>\n",
       "    </tr>\n",
       "    <tr>\n",
       "      <th>1</th>\n",
       "      <td>2</td>\n",
       "      <td>stockton, california, usa</td>\n",
       "      <td>18.0</td>\n",
       "    </tr>\n",
       "    <tr>\n",
       "      <th>2</th>\n",
       "      <td>3</td>\n",
       "      <td>moscow, yukon territory, russia</td>\n",
       "      <td>NaN</td>\n",
       "    </tr>\n",
       "    <tr>\n",
       "      <th>3</th>\n",
       "      <td>4</td>\n",
       "      <td>porto, v.n.gaia, portugal</td>\n",
       "      <td>17.0</td>\n",
       "    </tr>\n",
       "    <tr>\n",
       "      <th>4</th>\n",
       "      <td>5</td>\n",
       "      <td>farnborough, hants, united kingdom</td>\n",
       "      <td>NaN</td>\n",
       "    </tr>\n",
       "  </tbody>\n",
       "</table>\n",
       "</div>"
      ],
      "text/plain": [
       "   userID                            Location   Age\n",
       "0       1                  nyc, new york, usa   NaN\n",
       "1       2           stockton, california, usa  18.0\n",
       "2       3     moscow, yukon territory, russia   NaN\n",
       "3       4           porto, v.n.gaia, portugal  17.0\n",
       "4       5  farnborough, hants, united kingdom   NaN"
      ]
     },
     "execution_count": 97,
     "metadata": {},
     "output_type": "execute_result"
    }
   ],
   "source": [
    "# Let's look at users\n",
    "users.columns = ['userID', 'Location', 'Age']\n",
    "users.shape\n",
    "users.head()"
   ]
  },
  {
   "cell_type": "code",
   "execution_count": 98,
   "metadata": {},
   "outputs": [
    {
     "name": "stdout",
     "output_type": "stream",
     "text": [
      "[nan, 0.0, 1.0, 2.0, 3.0, 4.0, 5.0, 6.0, 7.0, 8.0, 9.0, 10.0, 11.0, 12.0, 13.0, 14.0, 15.0, 16.0, 17.0, 18.0, 19.0, 20.0, 21.0, 22.0, 23.0, 24.0, 25.0, 26.0, 27.0, 28.0, 29.0, 30.0, 31.0, 32.0, 33.0, 34.0, 35.0, 36.0, 37.0, 38.0, 39.0, 40.0, 41.0, 42.0, 43.0, 44.0, 45.0, 46.0, 47.0, 48.0, 49.0, 50.0, 51.0, 52.0, 53.0, 54.0, 55.0, 56.0, 57.0, 58.0, 59.0, 60.0, 61.0, 62.0, 63.0, 64.0, 65.0, 66.0, 67.0, 68.0, 69.0, 70.0, 71.0, 72.0, 73.0, 74.0, 75.0, 76.0, 77.0, 78.0, 79.0, 80.0, 81.0, 82.0, 83.0, 84.0, 85.0, 86.0, 87.0, 88.0, 89.0, 90.0, 91.0, 92.0, 93.0, 94.0, 95.0, 96.0, 97.0, 98.0, 99.0, 100.0, 101.0, 102.0, 103.0, 104.0, 105.0, 106.0, 107.0, 108.0, 109.0, 110.0, 111.0, 113.0, 114.0, 115.0, 116.0, 118.0, 119.0, 123.0, 124.0, 127.0, 128.0, 132.0, 133.0, 136.0, 137.0, 138.0, 140.0, 141.0, 143.0, 146.0, 147.0, 148.0, 151.0, 152.0, 156.0, 157.0, 159.0, 162.0, 168.0, 172.0, 175.0, 183.0, 186.0, 189.0, 199.0, 200.0, 201.0, 204.0, 207.0, 208.0, 209.0, 210.0, 212.0, 219.0, 220.0, 223.0, 226.0, 228.0, 229.0, 230.0, 231.0, 237.0, 239.0, 244.0]\n"
     ]
    }
   ],
   "source": [
    "print(sorted(users.Age.unique()))"
   ]
  },
  {
   "cell_type": "code",
   "execution_count": 99,
   "metadata": {},
   "outputs": [],
   "source": [
    "# The age column has some nan and some values which don't make sense (>100)\n",
    "# we'll replace the values above 90 and under 18 with nan\n",
    "users.loc[(users.Age > 90) | (users.Age < 18), 'Age'] = np.nan"
   ]
  },
  {
   "cell_type": "code",
   "execution_count": 100,
   "metadata": {},
   "outputs": [
    {
     "name": "stdout",
     "output_type": "stream",
     "text": [
      "Mean age: 36.161480728134094\n"
     ]
    }
   ],
   "source": [
    "# even better, we'll calculate the mean for the age and use that as filler\n",
    "meanAge = users.Age.mean()\n",
    "print(f\"Mean age: {meanAge}\")\n",
    "users.Age = users.Age.fillna(meanAge)"
   ]
  },
  {
   "cell_type": "code",
   "execution_count": 101,
   "metadata": {},
   "outputs": [],
   "source": [
    "# now we can change the type to int\n",
    "users.Age = users.Age.astype(np.int32)"
   ]
  },
  {
   "cell_type": "code",
   "execution_count": 102,
   "metadata": {},
   "outputs": [
    {
     "name": "stdout",
     "output_type": "stream",
     "text": [
      "[18, 19, 20, 21, 22, 23, 24, 25, 26, 27, 28, 29, 30, 31, 32, 33, 34, 35, 36, 37, 38, 39, 40, 41, 42, 43, 44, 45, 46, 47, 48, 49, 50, 51, 52, 53, 54, 55, 56, 57, 58, 59, 60, 61, 62, 63, 64, 65, 66, 67, 68, 69, 70, 71, 72, 73, 74, 75, 76, 77, 78, 79, 80, 81, 82, 83, 84, 85, 86, 87, 88, 89, 90]\n"
     ]
    }
   ],
   "source": [
    "print(sorted(users.Age.unique()))"
   ]
  },
  {
   "cell_type": "code",
   "execution_count": 103,
   "metadata": {},
   "outputs": [
    {
     "data": {
      "text/html": [
       "<div>\n",
       "<style scoped>\n",
       "    .dataframe tbody tr th:only-of-type {\n",
       "        vertical-align: middle;\n",
       "    }\n",
       "\n",
       "    .dataframe tbody tr th {\n",
       "        vertical-align: top;\n",
       "    }\n",
       "\n",
       "    .dataframe thead th {\n",
       "        text-align: right;\n",
       "    }\n",
       "</style>\n",
       "<table border=\"1\" class=\"dataframe\">\n",
       "  <thead>\n",
       "    <tr style=\"text-align: right;\">\n",
       "      <th></th>\n",
       "      <th>userID</th>\n",
       "      <th>ISBN</th>\n",
       "      <th>bookRating</th>\n",
       "    </tr>\n",
       "  </thead>\n",
       "  <tbody>\n",
       "    <tr>\n",
       "      <th>106181</th>\n",
       "      <td>24342</td>\n",
       "      <td>068480283x</td>\n",
       "      <td>10</td>\n",
       "    </tr>\n",
       "    <tr>\n",
       "      <th>1141025</th>\n",
       "      <td>274308</td>\n",
       "      <td>0373292090</td>\n",
       "      <td>0</td>\n",
       "    </tr>\n",
       "    <tr>\n",
       "      <th>712633</th>\n",
       "      <td>172742</td>\n",
       "      <td>055321246X</td>\n",
       "      <td>0</td>\n",
       "    </tr>\n",
       "    <tr>\n",
       "      <th>199026</th>\n",
       "      <td>44450</td>\n",
       "      <td>0345422406</td>\n",
       "      <td>0</td>\n",
       "    </tr>\n",
       "    <tr>\n",
       "      <th>303738</th>\n",
       "      <td>72601</td>\n",
       "      <td>3596259924</td>\n",
       "      <td>0</td>\n",
       "    </tr>\n",
       "  </tbody>\n",
       "</table>\n",
       "</div>"
      ],
      "text/plain": [
       "         userID        ISBN  bookRating\n",
       "106181    24342  068480283x          10\n",
       "1141025  274308  0373292090           0\n",
       "712633   172742  055321246X           0\n",
       "199026    44450  0345422406           0\n",
       "303738    72601  3596259924           0"
      ]
     },
     "execution_count": 103,
     "metadata": {},
     "output_type": "execute_result"
    }
   ],
   "source": [
    "# Let's move on to ratings\n",
    "ratings.columns = ['userID', 'ISBN', 'bookRating']\n",
    "ratings.sample(5)"
   ]
  },
  {
   "cell_type": "code",
   "execution_count": 104,
   "metadata": {},
   "outputs": [],
   "source": [
    "# we're only interested in ratings for books that are in our books dataframe\n",
    "ratings_new = ratings[ratings.ISBN.isin(books.ISBN)]"
   ]
  },
  {
   "cell_type": "code",
   "execution_count": 105,
   "metadata": {},
   "outputs": [
    {
     "data": {
      "text/plain": [
       "(1031130, 3)"
      ]
     },
     "execution_count": 105,
     "metadata": {},
     "output_type": "execute_result"
    }
   ],
   "source": [
    "ratings_new.shape"
   ]
  },
  {
   "cell_type": "code",
   "execution_count": 106,
   "metadata": {},
   "outputs": [],
   "source": [
    "# some books have a rating of 0, they don't serve our purpose\n",
    "ratings_clean = ratings_new[ratings_new.bookRating != 0]"
   ]
  },
  {
   "cell_type": "code",
   "execution_count": 107,
   "metadata": {},
   "outputs": [
    {
     "data": {
      "image/png": "[encoded data removed]",
      "text/plain": [
       "<Figure size 640x480 with 1 Axes>"
      ]
     },
     "metadata": {},
     "output_type": "display_data"
    }
   ],
   "source": [
    "# let's visualise the data\n",
    "sns.countplot(data=ratings_clean , x='bookRating', palette='Dark2')\n",
    "plt.show();"
   ]
  },
  {
   "cell_type": "markdown",
   "metadata": {},
   "source": [
    "**Now we can export the cleaned dataframe to CSV for importing into MySQL**"
   ]
  },
  {
   "cell_type": "code",
   "execution_count": 108,
   "metadata": {},
   "outputs": [],
   "source": [
    "pd.DataFrame.to_csv(books, 'Books/Books Dataset/cb.csv', index=False)"
   ]
  },
  {
   "cell_type": "code",
   "execution_count": 109,
   "metadata": {},
   "outputs": [],
   "source": [
    "pd.DataFrame.to_csv(ratings_clean, 'Books/Books Dataset/cr.csv', index=False)"
   ]
  },
  {
   "cell_type": "code",
   "execution_count": 110,
   "metadata": {},
   "outputs": [],
   "source": [
    "pd.DataFrame.to_csv(users, 'Books/Books Dataset/cu.csv', index=False)"
   ]
  },
  {
   "cell_type": "code",
   "execution_count": 111,
   "metadata": {},
   "outputs": [],
   "source": [
    "# To create the fields in mysql we will need to have an idea on the maximum length for each column\n",
    "def max_string_length(file_path):\n",
    "    df = pd.read_csv(file_path)\n",
    "    max_lengths = {col: df[col].astype(str).map(len).max() for col in df.columns}\n",
    "    return max_lengths"
   ]
  },
  {
   "cell_type": "code",
   "execution_count": 112,
   "metadata": {},
   "outputs": [
    {
     "data": {
      "text/plain": [
       "{'ISBN': 13,\n",
       " 'bookTitle': 255,\n",
       " 'bookAuthor': 143,\n",
       " 'yearOfPublication': 4,\n",
       " 'publisher': 134}"
      ]
     },
     "execution_count": 112,
     "metadata": {},
     "output_type": "execute_result"
    }
   ],
   "source": [
    "max_string_length('Books/Books Dataset/cb.csv')"
   ]
  }
 ],
 "metadata": {
  "kernelspec": {
   "display_name": "Python 3",
   "language": "python",
   "name": "python3"
  },
  "language_info": {
   "codemirror_mode": {
    "name": "ipython",
    "version": 3
   },
   "file_extension": ".py",
   "mimetype": "text/x-python",
   "name": "python",
   "nbconvert_exporter": "python",
   "pygments_lexer": "ipython3",
   "version": "3.11.9"
  }
 },
 "nbformat": 4,
 "nbformat_minor": 2
}
